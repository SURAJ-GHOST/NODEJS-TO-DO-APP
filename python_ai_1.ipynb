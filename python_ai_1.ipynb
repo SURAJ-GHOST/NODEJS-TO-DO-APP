{
  "nbformat": 4,
  "nbformat_minor": 0,
  "metadata": {
    "colab": {
      "provenance": [],
      "mount_file_id": "1nB7tXf2Im8a-g1K9b7MlmC2bKTNMYYVd",
      "authorship_tag": "ABX9TyMmIlNL8LAHNaPKE+XOKq1K",
      "include_colab_link": true
    },
    "kernelspec": {
      "name": "python3",
      "display_name": "Python 3"
    },
    "language_info": {
      "name": "python"
    }
  },
  "cells": [
    {
      "cell_type": "markdown",
      "metadata": {
        "id": "view-in-github",
        "colab_type": "text"
      },
      "source": [
        "<a href=\"https://colab.research.google.com/github/SURAJ-GHOST/NODEJS-TO-DO-APP/blob/main/python_ai_1.ipynb\" target=\"_parent\"><img src=\"https://colab.research.google.com/assets/colab-badge.svg\" alt=\"Open In Colab\"/></a>"
      ]
    },
    {
      "cell_type": "code",
      "source": [
        "print(\"HELLO SURAJ!\")"
      ],
      "metadata": {
        "colab": {
          "base_uri": "https://localhost:8080/"
        },
        "id": "wfXXBbhVEj-K",
        "outputId": "377caa56-aa86-43e0-d39f-f66b2ef892d5"
      },
      "execution_count": 3,
      "outputs": [
        {
          "output_type": "stream",
          "name": "stdout",
          "text": [
            "HELLO SURAJ!\n"
          ]
        }
      ]
    }
  ]
}